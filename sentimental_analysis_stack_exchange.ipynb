{
 "cells": [
  {
   "cell_type": "code",
   "execution_count": 1,
   "source": [
    "import pandas as pd\r\n",
    "import matplotlib\r\n",
    "import string\r\n",
    "import matplotlib.pyplot as plt\r\n",
    "import json\r\n",
    "import io\r\n",
    "\r\n",
    "#import sklearn\r\n",
    "#!pip install --upgrade scikit-learn==0.20.3\r\n",
    "#!pip install stop-words\r\n",
    "import stop_words\r\n",
    "from sklearn.feature_extraction.text import CountVectorizer, TfidfTransformer\r\n",
    "from sklearn.model_selection import train_test_split, GridSearchCV, KFold\r\n",
    "from sklearn.naive_bayes import MultinomialNB\r\n",
    "from sklearn.svm import SVC, LinearSVC\r\n",
    "from sklearn.metrics import accuracy_score\r\n",
    "from sklearn.preprocessing import LabelEncoder"
   ],
   "outputs": [],
   "metadata": {}
  },
  {
   "cell_type": "markdown",
   "source": [
    "# Convertendo dados em dataFrame"
   ],
   "metadata": {}
  },
  {
   "cell_type": "code",
   "execution_count": 2,
   "source": [
    "#Coleta dos dados\r\n",
    "BASE_DATA_PATH=\"data/\"\r\n",
    "TRAINING_FILE_NAME=\"training.json\"\r\n",
    "TEST_FILE_FEATURES_NAME=\"testcase/testcases/input00.txt\"\r\n",
    "TEST_FILE_LABEL_NAME=\"testcase/testcases/output00.txt\"\r\n",
    "\r\n",
    "def base_read_dataset(f_name):\r\n",
    "    f = open(BASE_DATA_PATH+f_name, \"r\", encoding='utf-8')\r\n",
    "    # descarta a primeira linha que contém apenas um número inteiro\r\n",
    "    first_line = f.readline()\r\n",
    "\r\n",
    "    df_aux = []\r\n",
    "    l_number = 0\r\n",
    "    for line in f:\r\n",
    "        json_line = json.loads(line)\r\n",
    "        df_aux.append(pd.DataFrame.from_records(json_line, index=[l_number]))\r\n",
    "        l_number+=1\r\n",
    "    df = pd.concat(df_aux)\r\n",
    "    return(df)\r\n",
    "\r\n",
    "def read_test_dataset(f_input_name, f_output_name):\r\n",
    "    df = base_read_dataset(f_input_name)\r\n",
    "#     pd.read_json(BASE_DATA_PATH+f_input_name, orient='records')\r\n",
    "    df_label = pd.read_csv(BASE_DATA_PATH+f_output_name, header=None, names=['label'])\r\n",
    "    df['topic'] = df_label['label']\r\n",
    "    return(df)\r\n",
    "\r\n",
    "df = base_read_dataset(TRAINING_FILE_NAME)\r\n",
    "df_test = read_test_dataset(TEST_FILE_FEATURES_NAME, TEST_FILE_LABEL_NAME)"
   ],
   "outputs": [],
   "metadata": {}
  },
  {
   "cell_type": "markdown",
   "source": [
    "# Exploração dos dados"
   ],
   "metadata": {}
  },
  {
   "cell_type": "code",
   "execution_count": 3,
   "source": [
    "df"
   ],
   "outputs": [
    {
     "output_type": "execute_result",
     "data": {
      "text/plain": [
       "                                                 excerpt  \\\n",
       "0      I'm trying to work out, in general terms, the ...   \n",
       "1      Can I know which component senses heat or acts...   \n",
       "2      I am replacing a wall outlet with a Cooper Wir...   \n",
       "3      i have been reading about the buck converter, ...   \n",
       "4      I need help with deciding on a Master's Projec...   \n",
       "...                                                  ...   \n",
       "20214  I have a Custom Post Type called Recipe with p...   \n",
       "20215  I'm using the code below to track when a user ...   \n",
       "20216  add_action( 'pre_get_posts', 'custom_pre_get_p...   \n",
       "20217  i have wordpress blog with many posts. each po...   \n",
       "20218  I have many issues with the use of rewriting, ...   \n",
       "\n",
       "                                                question        topic  \n",
       "0      What is the effective differencial effective o...  electronics  \n",
       "1                           Heat sensor with fan cooling  electronics  \n",
       "2      Outlet Installation--more wires than my new ou...  electronics  \n",
       "3                      Buck Converter Operation Question  electronics  \n",
       "4      Urgent help in area of ASIC design, verificati...  electronics  \n",
       "...                                                  ...          ...  \n",
       "20214  How to set a Custom Post Type as the parent of...    wordpress  \n",
       "20215                 Tracking last login and last visit    wordpress  \n",
       "20216  How to exclude the particular category from th...    wordpress  \n",
       "20217  display sub categories assoccited with each po...    wordpress  \n",
       "20218       Lost of query parameter when using permalink    wordpress  \n",
       "\n",
       "[20219 rows x 3 columns]"
      ],
      "text/html": [
       "<div>\n",
       "<style scoped>\n",
       "    .dataframe tbody tr th:only-of-type {\n",
       "        vertical-align: middle;\n",
       "    }\n",
       "\n",
       "    .dataframe tbody tr th {\n",
       "        vertical-align: top;\n",
       "    }\n",
       "\n",
       "    .dataframe thead th {\n",
       "        text-align: right;\n",
       "    }\n",
       "</style>\n",
       "<table border=\"1\" class=\"dataframe\">\n",
       "  <thead>\n",
       "    <tr style=\"text-align: right;\">\n",
       "      <th></th>\n",
       "      <th>excerpt</th>\n",
       "      <th>question</th>\n",
       "      <th>topic</th>\n",
       "    </tr>\n",
       "  </thead>\n",
       "  <tbody>\n",
       "    <tr>\n",
       "      <th>0</th>\n",
       "      <td>I'm trying to work out, in general terms, the ...</td>\n",
       "      <td>What is the effective differencial effective o...</td>\n",
       "      <td>electronics</td>\n",
       "    </tr>\n",
       "    <tr>\n",
       "      <th>1</th>\n",
       "      <td>Can I know which component senses heat or acts...</td>\n",
       "      <td>Heat sensor with fan cooling</td>\n",
       "      <td>electronics</td>\n",
       "    </tr>\n",
       "    <tr>\n",
       "      <th>2</th>\n",
       "      <td>I am replacing a wall outlet with a Cooper Wir...</td>\n",
       "      <td>Outlet Installation--more wires than my new ou...</td>\n",
       "      <td>electronics</td>\n",
       "    </tr>\n",
       "    <tr>\n",
       "      <th>3</th>\n",
       "      <td>i have been reading about the buck converter, ...</td>\n",
       "      <td>Buck Converter Operation Question</td>\n",
       "      <td>electronics</td>\n",
       "    </tr>\n",
       "    <tr>\n",
       "      <th>4</th>\n",
       "      <td>I need help with deciding on a Master's Projec...</td>\n",
       "      <td>Urgent help in area of ASIC design, verificati...</td>\n",
       "      <td>electronics</td>\n",
       "    </tr>\n",
       "    <tr>\n",
       "      <th>...</th>\n",
       "      <td>...</td>\n",
       "      <td>...</td>\n",
       "      <td>...</td>\n",
       "    </tr>\n",
       "    <tr>\n",
       "      <th>20214</th>\n",
       "      <td>I have a Custom Post Type called Recipe with p...</td>\n",
       "      <td>How to set a Custom Post Type as the parent of...</td>\n",
       "      <td>wordpress</td>\n",
       "    </tr>\n",
       "    <tr>\n",
       "      <th>20215</th>\n",
       "      <td>I'm using the code below to track when a user ...</td>\n",
       "      <td>Tracking last login and last visit</td>\n",
       "      <td>wordpress</td>\n",
       "    </tr>\n",
       "    <tr>\n",
       "      <th>20216</th>\n",
       "      <td>add_action( 'pre_get_posts', 'custom_pre_get_p...</td>\n",
       "      <td>How to exclude the particular category from th...</td>\n",
       "      <td>wordpress</td>\n",
       "    </tr>\n",
       "    <tr>\n",
       "      <th>20217</th>\n",
       "      <td>i have wordpress blog with many posts. each po...</td>\n",
       "      <td>display sub categories assoccited with each po...</td>\n",
       "      <td>wordpress</td>\n",
       "    </tr>\n",
       "    <tr>\n",
       "      <th>20218</th>\n",
       "      <td>I have many issues with the use of rewriting, ...</td>\n",
       "      <td>Lost of query parameter when using permalink</td>\n",
       "      <td>wordpress</td>\n",
       "    </tr>\n",
       "  </tbody>\n",
       "</table>\n",
       "<p>20219 rows × 3 columns</p>\n",
       "</div>"
      ]
     },
     "metadata": {},
     "execution_count": 3
    }
   ],
   "metadata": {}
  },
  {
   "cell_type": "code",
   "execution_count": 4,
   "source": [
    "df_test"
   ],
   "outputs": [
    {
     "output_type": "execute_result",
     "data": {
      "text/plain": [
       "                                                 excerpt  \\\n",
       "0      I have been working with a IS5 frequency inver...   \n",
       "1      I was taking apart this thing that I bought fr...   \n",
       "2      I am starting to learn to use operational ampl...   \n",
       "3      This may be a very basic question but as the u...   \n",
       "4      I am new to all of this and I really feel over...   \n",
       "...                                                  ...   \n",
       "15027  In the function websitez_detect_mobile_device ...   \n",
       "15028  I wanted to display top viewed posts by month,...   \n",
       "15029  I'm  trying to translate Woosidebars strings i...   \n",
       "15030  I hope this is not a duplicate question.\\n\\nI ...   \n",
       "15031  Can someone suggest me an idea on this? \\n\\nI ...   \n",
       "\n",
       "                                                question        topic  \n",
       "0                              Frequency Inverter LS IS5  electronics  \n",
       "1                   Why did the designer use this motor?  electronics  \n",
       "2                      Help with amplifier with feedback  electronics  \n",
       "3        Single Supply Op Amp to Amplify 0-3.3V to 0-10V  electronics  \n",
       "4               How to start with 3d tracking? [on hold]  electronics  \n",
       "...                                                  ...          ...  \n",
       "15027                Add exception to WP Mobile Detector    wordpress  \n",
       "15028          Query Problem in getting top viewed posts    wordpress  \n",
       "15029               Translate Woosidebars plugin strings    wordpress  \n",
       "15030  Fatal error: Allowed memory size of 37748736 b...    wordpress  \n",
       "15031         more tables created when create a new site    wordpress  \n",
       "\n",
       "[15032 rows x 3 columns]"
      ],
      "text/html": [
       "<div>\n",
       "<style scoped>\n",
       "    .dataframe tbody tr th:only-of-type {\n",
       "        vertical-align: middle;\n",
       "    }\n",
       "\n",
       "    .dataframe tbody tr th {\n",
       "        vertical-align: top;\n",
       "    }\n",
       "\n",
       "    .dataframe thead th {\n",
       "        text-align: right;\n",
       "    }\n",
       "</style>\n",
       "<table border=\"1\" class=\"dataframe\">\n",
       "  <thead>\n",
       "    <tr style=\"text-align: right;\">\n",
       "      <th></th>\n",
       "      <th>excerpt</th>\n",
       "      <th>question</th>\n",
       "      <th>topic</th>\n",
       "    </tr>\n",
       "  </thead>\n",
       "  <tbody>\n",
       "    <tr>\n",
       "      <th>0</th>\n",
       "      <td>I have been working with a IS5 frequency inver...</td>\n",
       "      <td>Frequency Inverter LS IS5</td>\n",
       "      <td>electronics</td>\n",
       "    </tr>\n",
       "    <tr>\n",
       "      <th>1</th>\n",
       "      <td>I was taking apart this thing that I bought fr...</td>\n",
       "      <td>Why did the designer use this motor?</td>\n",
       "      <td>electronics</td>\n",
       "    </tr>\n",
       "    <tr>\n",
       "      <th>2</th>\n",
       "      <td>I am starting to learn to use operational ampl...</td>\n",
       "      <td>Help with amplifier with feedback</td>\n",
       "      <td>electronics</td>\n",
       "    </tr>\n",
       "    <tr>\n",
       "      <th>3</th>\n",
       "      <td>This may be a very basic question but as the u...</td>\n",
       "      <td>Single Supply Op Amp to Amplify 0-3.3V to 0-10V</td>\n",
       "      <td>electronics</td>\n",
       "    </tr>\n",
       "    <tr>\n",
       "      <th>4</th>\n",
       "      <td>I am new to all of this and I really feel over...</td>\n",
       "      <td>How to start with 3d tracking? [on hold]</td>\n",
       "      <td>electronics</td>\n",
       "    </tr>\n",
       "    <tr>\n",
       "      <th>...</th>\n",
       "      <td>...</td>\n",
       "      <td>...</td>\n",
       "      <td>...</td>\n",
       "    </tr>\n",
       "    <tr>\n",
       "      <th>15027</th>\n",
       "      <td>In the function websitez_detect_mobile_device ...</td>\n",
       "      <td>Add exception to WP Mobile Detector</td>\n",
       "      <td>wordpress</td>\n",
       "    </tr>\n",
       "    <tr>\n",
       "      <th>15028</th>\n",
       "      <td>I wanted to display top viewed posts by month,...</td>\n",
       "      <td>Query Problem in getting top viewed posts</td>\n",
       "      <td>wordpress</td>\n",
       "    </tr>\n",
       "    <tr>\n",
       "      <th>15029</th>\n",
       "      <td>I'm  trying to translate Woosidebars strings i...</td>\n",
       "      <td>Translate Woosidebars plugin strings</td>\n",
       "      <td>wordpress</td>\n",
       "    </tr>\n",
       "    <tr>\n",
       "      <th>15030</th>\n",
       "      <td>I hope this is not a duplicate question.\\n\\nI ...</td>\n",
       "      <td>Fatal error: Allowed memory size of 37748736 b...</td>\n",
       "      <td>wordpress</td>\n",
       "    </tr>\n",
       "    <tr>\n",
       "      <th>15031</th>\n",
       "      <td>Can someone suggest me an idea on this? \\n\\nI ...</td>\n",
       "      <td>more tables created when create a new site</td>\n",
       "      <td>wordpress</td>\n",
       "    </tr>\n",
       "  </tbody>\n",
       "</table>\n",
       "<p>15032 rows × 3 columns</p>\n",
       "</div>"
      ]
     },
     "metadata": {},
     "execution_count": 4
    }
   ],
   "metadata": {}
  },
  {
   "cell_type": "code",
   "execution_count": 5,
   "source": [
    "topis_dist = df.groupby('topic').size().reset_index()\r\n",
    "topis_dist = topis_dist.rename(columns={0: 'count'})\r\n",
    "topis_dist.plot(kind='bar', x=\"topic\", y=\"count\", figsize=(15,6))\r\n",
    "plt.show()"
   ],
   "outputs": [
    {
     "output_type": "display_data",
     "data": {
      "text/plain": [
       "<Figure size 1080x432 with 1 Axes>"
      ],
      "image/png": "[encoded data removed]"
     },
     "metadata": {
      "needs_background": "light"
     }
    }
   ],
   "metadata": {}
  },
  {
   "cell_type": "code",
   "execution_count": 6,
   "source": [
    "# DISPLAY HISTOGRAM\r\n",
    "df[\"excerpt_len\"] = df[\"excerpt\"].apply(lambda x: len(x))\r\n",
    "df[\"question_len\"] = df[\"question\"].apply(lambda x: len(x))\r\n",
    "\r\n",
    "fig, axes = plt.subplots(nrows=1, ncols=2, figsize=(17,4))\r\n",
    "\r\n",
    "axes[0].set_title(\"Histograma do tamanho de texto resposta\")\r\n",
    "df[\"excerpt_len\"].hist(ax=axes[0], bins=10)\r\n",
    "axes[1].set_title(\"Histograma do tamanho das questoes\")\r\n",
    "df[\"question_len\"].hist(ax=axes[1])\r\n",
    "\r\n",
    "plt.show()\r\n",
    "\r\n",
    "# DISPLAY BAR CHARTS\r\n",
    "df_grouped = df.groupby(\"topic\").agg({'excerpt_len': 'mean', 'question_len': 'mean'}).reset_index()\r\n",
    "\r\n",
    "fig, axes = plt.subplots(nrows=1, ncols=2, figsize=(16,5))\r\n",
    "axes[0].set_title(\"Media de tamanho de excerto por topico\")\r\n",
    "df_grouped.plot.bar(x=\"topic\", y=\"excerpt_len\", ax=axes[0])\r\n",
    "axes[1].set_title(\"Media de tamanho de questao por topico\")\r\n",
    "df_grouped.plot.bar(x=\"topic\", y=\"question_len\", ax=axes[1])"
   ],
   "outputs": [
    {
     "output_type": "display_data",
     "data": {
      "text/plain": [
       "<Figure size 1224x288 with 2 Axes>"
      ],
      "image/png": "[encoded data removed]"
     },
     "metadata": {
      "needs_background": "light"
     }
    },
    {
     "output_type": "execute_result",
     "data": {
      "text/plain": [
       "<AxesSubplot:title={'center':'Media de tamanho de questao por topico'}, xlabel='topic'>"
      ]
     },
     "metadata": {},
     "execution_count": 6
    },
    {
     "output_type": "display_data",
     "data": {
      "text/plain": [
       "<Figure size 1152x360 with 2 Axes>"
      ],
      "image/png": "[encoded data removed]"
     },
     "metadata": {
      "needs_background": "light"
     }
    }
   ],
   "metadata": {}
  },
  {
   "cell_type": "markdown",
   "source": [
    " # Criando features"
   ],
   "metadata": {}
  },
  {
   "cell_type": "code",
   "execution_count": 7,
   "source": [
    "full_text_col = 'full_text'\r\n",
    "required_columns = [\"excerpt\", \"question\", \"topic\", full_text_col]\r\n",
    "df[full_text_col] = df[\"question\"] + \" \" + df[\"excerpt\"]\r\n",
    "df[full_text_col] = df[full_text_col].str.lower()\r\n",
    "\r\n",
    "le = LabelEncoder()\r\n",
    "\r\n",
    "X = df[full_text_col]\r\n",
    "y = le.fit_transform(df['topic'])\r\n",
    "\r\n",
    "df_test[full_text_col] = df_test[\"question\"] + \" \" + df_test[\"excerpt\"]\r\n",
    "df_test[full_text_col] = df_test[full_text_col].str.lower()\r\n",
    "X_final_test = df_test[full_text_col]\r\n",
    "y_final_test = le.fit_transform(df_test['topic'])"
   ],
   "outputs": [],
   "metadata": {}
  },
  {
   "cell_type": "code",
   "execution_count": 19,
   "source": [
    "len(y)"
   ],
   "outputs": [
    {
     "output_type": "execute_result",
     "data": {
      "text/plain": [
       "20219"
      ]
     },
     "metadata": {},
     "execution_count": 19
    }
   ],
   "metadata": {}
  },
  {
   "cell_type": "code",
   "execution_count": 9,
   "source": [
    "count_vec = CountVectorizer()\r\n",
    "X_counts = count_vec.fit_transform(X)\r\n",
    "count_vec_ngram = CountVectorizer(ngram_range=(2, 2))\r\n",
    "X_counts_bigram = count_vec_ngram.fit_transform(X)\r\n",
    "\r\n",
    "tf = TfidfTransformer(use_idf=False, norm=\"l1\")\r\n",
    "X_freq = tf.fit_transform(X_counts)\r\n",
    "\r\n",
    "tf = TfidfTransformer(norm=\"l1\")\r\n",
    "X_tfidf = tf.fit_transform(X_counts)"
   ],
   "outputs": [],
   "metadata": {}
  },
  {
   "cell_type": "code",
   "execution_count": 10,
   "source": [
    "X_train_counts, X_test_counts, y_train_counts, y_test_counts = train_test_split(X_counts, y, test_size=.2)\r\n",
    "X_train_bigram, X_test_bigram, y_train_bigram, y_test_bigram = train_test_split(X_counts_bigram, y, test_size=.2)\r\n",
    "X_train_freq, X_test_freq, y_train_freq, y_test_freq = train_test_split(X_freq, y, test_size=.2)\r\n",
    "X_train_tfidf, X_test_tfidf, y_train_tfidf, y_test_tfidf = train_test_split(X_tfidf, y, test_size=.2)"
   ],
   "outputs": [],
   "metadata": {}
  },
  {
   "cell_type": "code",
   "execution_count": 11,
   "source": [
    "clf_counts = MultinomialNB().fit(X_train_counts, y_train_counts)\r\n",
    "clf_bigram = MultinomialNB().fit(X_train_bigram, y_train_bigram)\r\n",
    "clf_freq = MultinomialNB().fit(X_train_freq, y_train_freq)\r\n",
    "clf_tfidf = MultinomialNB().fit(X_train_tfidf, y_train_tfidf)"
   ],
   "outputs": [],
   "metadata": {}
  },
  {
   "cell_type": "code",
   "execution_count": 12,
   "source": [
    "y_pred_counts = clf_counts.predict(X_test_counts)\r\n",
    "y_pred_bigram = clf_bigram.predict(X_test_bigram)\r\n",
    "y_pred_freq = clf_freq.predict(X_test_freq)\r\n",
    "y_pred_tfidf = clf_tfidf.predict(X_test_tfidf)"
   ],
   "outputs": [],
   "metadata": {}
  },
  {
   "cell_type": "code",
   "execution_count": 13,
   "source": [
    "param_grid = [\r\n",
    "  {'C': [1, 10, 100, 1000]}\r\n",
    " ]\r\n",
    "svc = LinearSVC()\r\n",
    "clf_counts = GridSearchCV(svc, param_grid).fit(X_train_counts, y_train_counts)\r\n",
    "clf_bigram = GridSearchCV(svc, param_grid).fit(X_train_bigram, y_train_bigram)\r\n",
    "clf_freq = GridSearchCV(svc, param_grid).fit(X_train_freq, y_train_freq)\r\n",
    "clf_tfidf = GridSearchCV(svc, param_grid).fit(X_train_tfidf, y_train_tfidf)"
   ],
   "outputs": [
    {
     "output_type": "stream",
     "name": "stderr",
     "text": [
      "C:\\Users\\erycm\\anaconda3\\lib\\site-packages\\sklearn\\svm\\_base.py:985: ConvergenceWarning: Liblinear failed to converge, increase the number of iterations.\n",
      "  warnings.warn(\"Liblinear failed to converge, increase \"\n",
      "C:\\Users\\erycm\\anaconda3\\lib\\site-packages\\sklearn\\svm\\_base.py:985: ConvergenceWarning: Liblinear failed to converge, increase the number of iterations.\n",
      "  warnings.warn(\"Liblinear failed to converge, increase \"\n",
      "C:\\Users\\erycm\\anaconda3\\lib\\site-packages\\sklearn\\svm\\_base.py:985: ConvergenceWarning: Liblinear failed to converge, increase the number of iterations.\n",
      "  warnings.warn(\"Liblinear failed to converge, increase \"\n",
      "C:\\Users\\erycm\\anaconda3\\lib\\site-packages\\sklearn\\svm\\_base.py:985: ConvergenceWarning: Liblinear failed to converge, increase the number of iterations.\n",
      "  warnings.warn(\"Liblinear failed to converge, increase \"\n",
      "C:\\Users\\erycm\\anaconda3\\lib\\site-packages\\sklearn\\svm\\_base.py:985: ConvergenceWarning: Liblinear failed to converge, increase the number of iterations.\n",
      "  warnings.warn(\"Liblinear failed to converge, increase \"\n",
      "C:\\Users\\erycm\\anaconda3\\lib\\site-packages\\sklearn\\svm\\_base.py:985: ConvergenceWarning: Liblinear failed to converge, increase the number of iterations.\n",
      "  warnings.warn(\"Liblinear failed to converge, increase \"\n",
      "C:\\Users\\erycm\\anaconda3\\lib\\site-packages\\sklearn\\svm\\_base.py:985: ConvergenceWarning: Liblinear failed to converge, increase the number of iterations.\n",
      "  warnings.warn(\"Liblinear failed to converge, increase \"\n",
      "C:\\Users\\erycm\\anaconda3\\lib\\site-packages\\sklearn\\svm\\_base.py:985: ConvergenceWarning: Liblinear failed to converge, increase the number of iterations.\n",
      "  warnings.warn(\"Liblinear failed to converge, increase \"\n",
      "C:\\Users\\erycm\\anaconda3\\lib\\site-packages\\sklearn\\svm\\_base.py:985: ConvergenceWarning: Liblinear failed to converge, increase the number of iterations.\n",
      "  warnings.warn(\"Liblinear failed to converge, increase \"\n",
      "C:\\Users\\erycm\\anaconda3\\lib\\site-packages\\sklearn\\svm\\_base.py:985: ConvergenceWarning: Liblinear failed to converge, increase the number of iterations.\n",
      "  warnings.warn(\"Liblinear failed to converge, increase \"\n",
      "C:\\Users\\erycm\\anaconda3\\lib\\site-packages\\sklearn\\svm\\_base.py:985: ConvergenceWarning: Liblinear failed to converge, increase the number of iterations.\n",
      "  warnings.warn(\"Liblinear failed to converge, increase \"\n",
      "C:\\Users\\erycm\\anaconda3\\lib\\site-packages\\sklearn\\svm\\_base.py:985: ConvergenceWarning: Liblinear failed to converge, increase the number of iterations.\n",
      "  warnings.warn(\"Liblinear failed to converge, increase \"\n",
      "C:\\Users\\erycm\\anaconda3\\lib\\site-packages\\sklearn\\svm\\_base.py:985: ConvergenceWarning: Liblinear failed to converge, increase the number of iterations.\n",
      "  warnings.warn(\"Liblinear failed to converge, increase \"\n",
      "C:\\Users\\erycm\\anaconda3\\lib\\site-packages\\sklearn\\svm\\_base.py:985: ConvergenceWarning: Liblinear failed to converge, increase the number of iterations.\n",
      "  warnings.warn(\"Liblinear failed to converge, increase \"\n",
      "C:\\Users\\erycm\\anaconda3\\lib\\site-packages\\sklearn\\svm\\_base.py:985: ConvergenceWarning: Liblinear failed to converge, increase the number of iterations.\n",
      "  warnings.warn(\"Liblinear failed to converge, increase \"\n",
      "C:\\Users\\erycm\\anaconda3\\lib\\site-packages\\sklearn\\svm\\_base.py:985: ConvergenceWarning: Liblinear failed to converge, increase the number of iterations.\n",
      "  warnings.warn(\"Liblinear failed to converge, increase \"\n",
      "C:\\Users\\erycm\\anaconda3\\lib\\site-packages\\sklearn\\svm\\_base.py:985: ConvergenceWarning: Liblinear failed to converge, increase the number of iterations.\n",
      "  warnings.warn(\"Liblinear failed to converge, increase \"\n",
      "C:\\Users\\erycm\\anaconda3\\lib\\site-packages\\sklearn\\svm\\_base.py:985: ConvergenceWarning: Liblinear failed to converge, increase the number of iterations.\n",
      "  warnings.warn(\"Liblinear failed to converge, increase \"\n",
      "C:\\Users\\erycm\\anaconda3\\lib\\site-packages\\sklearn\\svm\\_base.py:985: ConvergenceWarning: Liblinear failed to converge, increase the number of iterations.\n",
      "  warnings.warn(\"Liblinear failed to converge, increase \"\n",
      "C:\\Users\\erycm\\anaconda3\\lib\\site-packages\\sklearn\\svm\\_base.py:985: ConvergenceWarning: Liblinear failed to converge, increase the number of iterations.\n",
      "  warnings.warn(\"Liblinear failed to converge, increase \"\n",
      "C:\\Users\\erycm\\anaconda3\\lib\\site-packages\\sklearn\\svm\\_base.py:985: ConvergenceWarning: Liblinear failed to converge, increase the number of iterations.\n",
      "  warnings.warn(\"Liblinear failed to converge, increase \"\n",
      "C:\\Users\\erycm\\anaconda3\\lib\\site-packages\\sklearn\\svm\\_base.py:985: ConvergenceWarning: Liblinear failed to converge, increase the number of iterations.\n",
      "  warnings.warn(\"Liblinear failed to converge, increase \"\n",
      "C:\\Users\\erycm\\anaconda3\\lib\\site-packages\\sklearn\\svm\\_base.py:985: ConvergenceWarning: Liblinear failed to converge, increase the number of iterations.\n",
      "  warnings.warn(\"Liblinear failed to converge, increase \"\n",
      "C:\\Users\\erycm\\anaconda3\\lib\\site-packages\\sklearn\\svm\\_base.py:985: ConvergenceWarning: Liblinear failed to converge, increase the number of iterations.\n",
      "  warnings.warn(\"Liblinear failed to converge, increase \"\n",
      "C:\\Users\\erycm\\anaconda3\\lib\\site-packages\\sklearn\\svm\\_base.py:985: ConvergenceWarning: Liblinear failed to converge, increase the number of iterations.\n",
      "  warnings.warn(\"Liblinear failed to converge, increase \"\n",
      "C:\\Users\\erycm\\anaconda3\\lib\\site-packages\\sklearn\\svm\\_base.py:985: ConvergenceWarning: Liblinear failed to converge, increase the number of iterations.\n",
      "  warnings.warn(\"Liblinear failed to converge, increase \"\n",
      "C:\\Users\\erycm\\anaconda3\\lib\\site-packages\\sklearn\\svm\\_base.py:985: ConvergenceWarning: Liblinear failed to converge, increase the number of iterations.\n",
      "  warnings.warn(\"Liblinear failed to converge, increase \"\n",
      "C:\\Users\\erycm\\anaconda3\\lib\\site-packages\\sklearn\\svm\\_base.py:985: ConvergenceWarning: Liblinear failed to converge, increase the number of iterations.\n",
      "  warnings.warn(\"Liblinear failed to converge, increase \"\n",
      "C:\\Users\\erycm\\anaconda3\\lib\\site-packages\\sklearn\\svm\\_base.py:985: ConvergenceWarning: Liblinear failed to converge, increase the number of iterations.\n",
      "  warnings.warn(\"Liblinear failed to converge, increase \"\n",
      "C:\\Users\\erycm\\anaconda3\\lib\\site-packages\\sklearn\\svm\\_base.py:985: ConvergenceWarning: Liblinear failed to converge, increase the number of iterations.\n",
      "  warnings.warn(\"Liblinear failed to converge, increase \"\n",
      "C:\\Users\\erycm\\anaconda3\\lib\\site-packages\\sklearn\\svm\\_base.py:985: ConvergenceWarning: Liblinear failed to converge, increase the number of iterations.\n",
      "  warnings.warn(\"Liblinear failed to converge, increase \"\n",
      "C:\\Users\\erycm\\anaconda3\\lib\\site-packages\\sklearn\\svm\\_base.py:985: ConvergenceWarning: Liblinear failed to converge, increase the number of iterations.\n",
      "  warnings.warn(\"Liblinear failed to converge, increase \"\n"
     ]
    }
   ],
   "metadata": {}
  },
  {
   "cell_type": "code",
   "execution_count": 14,
   "source": [
    "svm_y_pred_counts = clf_counts.predict(X_test_counts)\r\n",
    "svm_y_pred_bigram = clf_bigram.predict(X_test_bigram)\r\n",
    "svm_y_pred_freq = clf_freq.predict(X_test_freq)\r\n",
    "svm_y_pred_tfidf = clf_tfidf.predict(X_test_tfidf)"
   ],
   "outputs": [],
   "metadata": {}
  },
  {
   "cell_type": "code",
   "execution_count": 15,
   "source": [
    "acc_counts = accuracy_score(y_test_counts, y_pred_counts)\r\n",
    "acc_bigram = accuracy_score(y_test_bigram, y_pred_bigram)\r\n",
    "acc_freq = accuracy_score(y_test_freq, y_pred_freq)\r\n",
    "acc_tfidf = accuracy_score(y_test_tfidf, y_pred_tfidf)\r\n",
    "\r\n",
    "print(\"Metricas usando MNB\")\r\n",
    "print(\"Acuracia de counts = {}\".format(acc_counts))\r\n",
    "print(\"Acuracia de bigram = {}\".format(acc_bigram))\r\n",
    "print(\"Acuracia de freq = {}\".format(acc_freq))\r\n",
    "print(\"Acuracia de tfidf = {}\".format(acc_tfidf))\r\n",
    "print(\"-----------------------------------------------------\")\r\n",
    "\r\n",
    "\r\n",
    "svm_acc_counts = accuracy_score(y_test_counts, svm_y_pred_counts)\r\n",
    "svm_acc_bigram = accuracy_score(y_test_bigram, svm_y_pred_bigram)\r\n",
    "svm_acc_freq = accuracy_score(y_test_freq, svm_y_pred_freq)\r\n",
    "svm_acc_tfidf = accuracy_score(y_test_tfidf, svm_y_pred_tfidf)\r\n",
    "\r\n",
    "print(\"Metricas usando SVM\")\r\n",
    "print(\"Acuracia de counts = {}\".format(svm_acc_counts))\r\n",
    "print(\"Acuracia de bigram = {}\".format(svm_acc_bigram))\r\n",
    "print(\"Acuracia de freq = {}\".format(svm_acc_freq))\r\n",
    "print(\"Acuracia de tfidf = {}\".format(svm_acc_tfidf))\r\n",
    "print(\"-----------------------------------------------------\")"
   ],
   "outputs": [
    {
     "output_type": "stream",
     "name": "stdout",
     "text": [
      "Metricas usando MNB\n",
      "Acuracia de counts = 0.8949060336300693\n",
      "Acuracia de bigram = 0.8128090999010881\n",
      "Acuracia de freq = 0.4735410484668645\n",
      "Acuracia de tfidf = 0.5865479723046488\n",
      "-----------------------------------------------------\n",
      "Metricas usando SVM\n",
      "Acuracia de counts = 0.8877349159248269\n",
      "Acuracia de bigram = 0.8088526211671613\n",
      "Acuracia de freq = 0.9092482690405539\n",
      "Acuracia de tfidf = 0.9201285855588526\n",
      "-----------------------------------------------------\n"
     ]
    }
   ],
   "metadata": {}
  },
  {
   "cell_type": "code",
   "execution_count": 16,
   "source": [
    "X_final_test_counts = count_vec.transform(X_final_test)"
   ],
   "outputs": [],
   "metadata": {}
  },
  {
   "cell_type": "code",
   "execution_count": 17,
   "source": [
    "# tf = TfidfTransformer()\r\n",
    "X_final_test_tfidf = tf.transform(X_final_test_counts)\r\n",
    "svm_y_pred = clf_tfidf.predict(X_final_test_tfidf)\r\n",
    "\r\n",
    "acc = accuracy_score(y_final_test, svm_y_pred)\r\n",
    "\r\n",
    "print(\"Acuracia do melhor classificador (SVM com Unigramas e TF-IDF) = {}\".format(acc))"
   ],
   "outputs": [
    {
     "output_type": "stream",
     "name": "stdout",
     "text": [
      "Acuracia do melhor classificador (SVM com Unigramas e TF-IDF) = 0.9204364023416711\n"
     ]
    }
   ],
   "metadata": {}
  }
 ],
 "metadata": {
  "orig_nbformat": 4,
  "language_info": {
   "name": "python",
   "version": "3.8.8",
   "mimetype": "text/x-python",
   "codemirror_mode": {
    "name": "ipython",
    "version": 3
   },
   "pygments_lexer": "ipython3",
   "nbconvert_exporter": "python",
   "file_extension": ".py"
  },
  "kernelspec": {
   "name": "python3",
   "display_name": "Python 3.8.8 64-bit ('base': conda)"
  },
  "interpreter": {
   "hash": "e049b45738c4749feec37a8215276347ba84459169ad7790684fdcca7413c3f2"
  }
 },
 "nbformat": 4,
 "nbformat_minor": 2
}